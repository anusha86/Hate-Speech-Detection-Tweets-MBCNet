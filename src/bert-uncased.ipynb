{
 "metadata": {
  "colab": {
   "name": "classify_text_with_bert.ipynb",
   "provenance": []
  },
  "kernelspec": {
   "name": "python3",
   "display_name": "Python 3",
   "language": "python"
  },
  "language_info": {
   "name": "python",
   "version": "3.10.14",
   "mimetype": "text/x-python",
   "codemirror_mode": {
    "name": "ipython",
    "version": 3
   },
   "pygments_lexer": "ipython3",
   "nbconvert_exporter": "python",
   "file_extension": ".py"
  },
  "kaggle": {
   "accelerator": "none",
   "dataSources": [
    {
     "sourceId": 9554723,
     "sourceType": "datasetVersion",
     "datasetId": 5821995
    }
   ],
   "dockerImageVersionId": 30786,
   "isInternetEnabled": true,
   "language": "python",
   "sourceType": "notebook",
   "isGpuEnabled": false
  }
 },
 "nbformat_minor": 4,
 "nbformat": 4,
 "cells": [
  {
   "cell_type": "markdown",
   "source": [
    "# Classifying text with BERT\n"
   ],
   "metadata": {
    "id": "IZ6SNYq_tVVC"
   }
  },
  {
   "cell_type": "markdown",
   "source": [
    "## Setup\n"
   ],
   "metadata": {
    "id": "SCjmX4zTCkRK"
   }
  },
  {
   "cell_type": "code",
   "source": [
    "# A dependency of the preprocessing for BERT inputs\n",
    "!pip install -U \"tensorflow-text==2.13.*\""
   ],
   "metadata": {
    "id": "q-YbjCkzw0yU",
    "outputId": "666f5307-0299-4b76-97da-f9f211ee83b3",
    "trusted": true
   },
   "execution_count": null,
   "outputs": []
  },
  {
   "cell_type": "markdown",
   "source": [
    "You will use the AdamW optimizer from [tensorflow/models](https://github.com/tensorflow/models)."
   ],
   "metadata": {
    "id": "5w_XlxN1IsRJ"
   }
  },
  {
   "cell_type": "code",
   "source": [
    "!pip install \"tf-models-official==2.13.*\""
   ],
   "metadata": {
    "id": "b-P1ZOA0FkVJ",
    "outputId": "96d8d5fe-87d7-42d8-97c5-68b557180983",
    "execution": {
     "iopub.status.busy": "2024-10-20T08:00:46.398641Z",
     "iopub.execute_input": "2024-10-20T08:00:46.399764Z",
     "iopub.status.idle": "2024-10-20T08:01:11.031523Z",
     "shell.execute_reply.started": "2024-10-20T08:00:46.399683Z",
     "shell.execute_reply": "2024-10-20T08:01:11.030098Z"
    },
    "trusted": true
   },
   "execution_count": 1,
   "outputs": [
    {
     "name": "stdout",
     "text": "Collecting tf-models-official==2.13.*\n  Downloading tf_models_official-2.13.2-py2.py3-none-any.whl.metadata (1.4 kB)\nRequirement already satisfied: Cython in /opt/conda/lib/python3.10/site-packages (from tf-models-official==2.13.*) (3.0.10)\nRequirement already satisfied: Pillow in /opt/conda/lib/python3.10/site-packages (from tf-models-official==2.13.*) (10.3.0)\nCollecting gin-config (from tf-models-official==2.13.*)\n  Downloading gin_config-0.5.0-py3-none-any.whl.metadata (2.9 kB)\nRequirement already satisfied: google-api-python-client>=1.6.7 in /opt/conda/lib/python3.10/site-packages (from tf-models-official==2.13.*) (2.147.0)\nRequirement already satisfied: immutabledict in /opt/conda/lib/python3.10/site-packages (from tf-models-official==2.13.*) (4.2.0)\nRequirement already satisfied: kaggle>=1.3.9 in /opt/conda/lib/python3.10/site-packages (from tf-models-official==2.13.*) (1.6.17)\nRequirement already satisfied: matplotlib in /opt/conda/lib/python3.10/site-packages (from tf-models-official==2.13.*) (3.7.5)\nRequirement already satisfied: numpy>=1.20 in /opt/conda/lib/python3.10/site-packages (from tf-models-official==2.13.*) (1.24.3)\nRequirement already satisfied: oauth2client in /opt/conda/lib/python3.10/site-packages (from tf-models-official==2.13.*) (4.1.3)\nRequirement already satisfied: opencv-python-headless in /opt/conda/lib/python3.10/site-packages (from tf-models-official==2.13.*) (4.10.0.84)\nRequirement already satisfied: pandas>=0.22.0 in /opt/conda/lib/python3.10/site-packages (from tf-models-official==2.13.*) (2.2.3)\nRequirement already satisfied: psutil>=5.4.3 in /opt/conda/lib/python3.10/site-packages (from tf-models-official==2.13.*) (5.9.3)\nRequirement already satisfied: py-cpuinfo>=3.3.0 in /opt/conda/lib/python3.10/site-packages (from tf-models-official==2.13.*) (9.0.0)\nCollecting pycocotools (from tf-models-official==2.13.*)\n  Downloading pycocotools-2.0.8-cp310-cp310-manylinux_2_17_x86_64.manylinux2014_x86_64.whl.metadata (1.1 kB)\nRequirement already satisfied: pyyaml>=6.0.0 in /opt/conda/lib/python3.10/site-packages (from tf-models-official==2.13.*) (6.0.2)\nCollecting sacrebleu (from tf-models-official==2.13.*)\n  Downloading sacrebleu-2.4.3-py3-none-any.whl.metadata (51 kB)\n\u001B[2K     \u001B[90m━━━━━━━━━━━━━━━━━━━━━━━━━━━━━━━━━━━━━━━━\u001B[0m \u001B[32m51.8/51.8 kB\u001B[0m \u001B[31m1.6 MB/s\u001B[0m eta \u001B[36m0:00:00\u001B[0m\n\u001B[?25hRequirement already satisfied: scipy>=0.19.1 in /opt/conda/lib/python3.10/site-packages (from tf-models-official==2.13.*) (1.14.1)\nRequirement already satisfied: sentencepiece in /opt/conda/lib/python3.10/site-packages (from tf-models-official==2.13.*) (0.2.0)\nCollecting seqeval (from tf-models-official==2.13.*)\n  Downloading seqeval-1.2.2.tar.gz (43 kB)\n\u001B[2K     \u001B[90m━━━━━━━━━━━━━━━━━━━━━━━━━━━━━━━━━━━━━━━━\u001B[0m \u001B[32m43.6/43.6 kB\u001B[0m \u001B[31m1.6 MB/s\u001B[0m eta \u001B[36m0:00:00\u001B[0m\n\u001B[?25h  Preparing metadata (setup.py) ... \u001B[?25ldone\n\u001B[?25hRequirement already satisfied: six in /opt/conda/lib/python3.10/site-packages (from tf-models-official==2.13.*) (1.16.0)\nRequirement already satisfied: tensorflow-datasets in /opt/conda/lib/python3.10/site-packages (from tf-models-official==2.13.*) (4.9.6)\nRequirement already satisfied: tensorflow-hub>=0.6.0 in /opt/conda/lib/python3.10/site-packages (from tf-models-official==2.13.*) (0.16.1)\nCollecting tensorflow-model-optimization>=0.4.1 (from tf-models-official==2.13.*)\n  Downloading tensorflow_model_optimization-0.8.0-py2.py3-none-any.whl.metadata (904 bytes)\nRequirement already satisfied: tensorflow-text~=2.13.0 in /opt/conda/lib/python3.10/site-packages (from tf-models-official==2.13.*) (2.13.0)\nRequirement already satisfied: tensorflow~=2.13.0 in /opt/conda/lib/python3.10/site-packages (from tf-models-official==2.13.*) (2.13.1)\nCollecting tf-slim>=1.1.0 (from tf-models-official==2.13.*)\n  Downloading tf_slim-1.1.0-py2.py3-none-any.whl.metadata (1.6 kB)\nRequirement already satisfied: httplib2<1.dev0,>=0.19.0 in /opt/conda/lib/python3.10/site-packages (from google-api-python-client>=1.6.7->tf-models-official==2.13.*) (0.21.0)\nRequirement already satisfied: google-auth!=2.24.0,!=2.25.0,<3.0.0.dev0,>=1.32.0 in /opt/conda/lib/python3.10/site-packages (from google-api-python-client>=1.6.7->tf-models-official==2.13.*) (2.30.0)\nRequirement already satisfied: google-auth-httplib2<1.0.0,>=0.2.0 in /opt/conda/lib/python3.10/site-packages (from google-api-python-client>=1.6.7->tf-models-official==2.13.*) (0.2.0)\nRequirement already satisfied: google-api-core!=2.0.*,!=2.1.*,!=2.2.*,!=2.3.0,<3.0.0.dev0,>=1.31.5 in /opt/conda/lib/python3.10/site-packages (from google-api-python-client>=1.6.7->tf-models-official==2.13.*) (2.11.1)\nRequirement already satisfied: uritemplate<5,>=3.0.1 in /opt/conda/lib/python3.10/site-packages (from google-api-python-client>=1.6.7->tf-models-official==2.13.*) (3.0.1)\nRequirement already satisfied: certifi>=2023.7.22 in /opt/conda/lib/python3.10/site-packages (from kaggle>=1.3.9->tf-models-official==2.13.*) (2024.8.30)\nRequirement already satisfied: python-dateutil in /opt/conda/lib/python3.10/site-packages (from kaggle>=1.3.9->tf-models-official==2.13.*) (2.9.0.post0)\nRequirement already satisfied: requests in /opt/conda/lib/python3.10/site-packages (from kaggle>=1.3.9->tf-models-official==2.13.*) (2.32.3)\nRequirement already satisfied: tqdm in /opt/conda/lib/python3.10/site-packages (from kaggle>=1.3.9->tf-models-official==2.13.*) (4.66.4)\nRequirement already satisfied: python-slugify in /opt/conda/lib/python3.10/site-packages (from kaggle>=1.3.9->tf-models-official==2.13.*) (8.0.4)\nRequirement already satisfied: urllib3 in /opt/conda/lib/python3.10/site-packages (from kaggle>=1.3.9->tf-models-official==2.13.*) (1.26.18)\nRequirement already satisfied: bleach in /opt/conda/lib/python3.10/site-packages (from kaggle>=1.3.9->tf-models-official==2.13.*) (6.1.0)\nRequirement already satisfied: pytz>=2020.1 in /opt/conda/lib/python3.10/site-packages (from pandas>=0.22.0->tf-models-official==2.13.*) (2024.1)\nRequirement already satisfied: tzdata>=2022.7 in /opt/conda/lib/python3.10/site-packages (from pandas>=0.22.0->tf-models-official==2.13.*) (2024.1)\nRequirement already satisfied: absl-py>=1.0.0 in /opt/conda/lib/python3.10/site-packages (from tensorflow~=2.13.0->tf-models-official==2.13.*) (1.4.0)\nRequirement already satisfied: astunparse>=1.6.0 in /opt/conda/lib/python3.10/site-packages (from tensorflow~=2.13.0->tf-models-official==2.13.*) (1.6.3)\nRequirement already satisfied: flatbuffers>=23.1.21 in /opt/conda/lib/python3.10/site-packages (from tensorflow~=2.13.0->tf-models-official==2.13.*) (24.3.25)\nRequirement already satisfied: gast<=0.4.0,>=0.2.1 in /opt/conda/lib/python3.10/site-packages (from tensorflow~=2.13.0->tf-models-official==2.13.*) (0.4.0)\nRequirement already satisfied: google-pasta>=0.1.1 in /opt/conda/lib/python3.10/site-packages (from tensorflow~=2.13.0->tf-models-official==2.13.*) (0.2.0)\nRequirement already satisfied: grpcio<2.0,>=1.24.3 in /opt/conda/lib/python3.10/site-packages (from tensorflow~=2.13.0->tf-models-official==2.13.*) (1.64.1)\nRequirement already satisfied: h5py>=2.9.0 in /opt/conda/lib/python3.10/site-packages (from tensorflow~=2.13.0->tf-models-official==2.13.*) (3.11.0)\nRequirement already satisfied: keras<2.14,>=2.13.1 in /opt/conda/lib/python3.10/site-packages (from tensorflow~=2.13.0->tf-models-official==2.13.*) (2.13.1)\nRequirement already satisfied: libclang>=13.0.0 in /opt/conda/lib/python3.10/site-packages (from tensorflow~=2.13.0->tf-models-official==2.13.*) (18.1.1)\nRequirement already satisfied: opt-einsum>=2.3.2 in /opt/conda/lib/python3.10/site-packages (from tensorflow~=2.13.0->tf-models-official==2.13.*) (3.3.0)\nRequirement already satisfied: packaging in /opt/conda/lib/python3.10/site-packages (from tensorflow~=2.13.0->tf-models-official==2.13.*) (21.3)\nRequirement already satisfied: protobuf!=4.21.0,!=4.21.1,!=4.21.2,!=4.21.3,!=4.21.4,!=4.21.5,<5.0.0dev,>=3.20.3 in /opt/conda/lib/python3.10/site-packages (from tensorflow~=2.13.0->tf-models-official==2.13.*) (3.20.3)\nRequirement already satisfied: setuptools in /opt/conda/lib/python3.10/site-packages (from tensorflow~=2.13.0->tf-models-official==2.13.*) (70.0.0)\nRequirement already satisfied: tensorboard<2.14,>=2.13 in /opt/conda/lib/python3.10/site-packages (from tensorflow~=2.13.0->tf-models-official==2.13.*) (2.13.0)\nRequirement already satisfied: tensorflow-estimator<2.14,>=2.13.0 in /opt/conda/lib/python3.10/site-packages (from tensorflow~=2.13.0->tf-models-official==2.13.*) (2.13.0)\nRequirement already satisfied: termcolor>=1.1.0 in /opt/conda/lib/python3.10/site-packages (from tensorflow~=2.13.0->tf-models-official==2.13.*) (2.4.0)\nRequirement already satisfied: typing-extensions<4.6.0,>=3.6.6 in /opt/conda/lib/python3.10/site-packages (from tensorflow~=2.13.0->tf-models-official==2.13.*) (4.5.0)\nRequirement already satisfied: wrapt>=1.11.0 in /opt/conda/lib/python3.10/site-packages (from tensorflow~=2.13.0->tf-models-official==2.13.*) (1.16.0)\nRequirement already satisfied: tensorflow-io-gcs-filesystem>=0.23.1 in /opt/conda/lib/python3.10/site-packages (from tensorflow~=2.13.0->tf-models-official==2.13.*) (0.37.0)\nRequirement already satisfied: tf-keras>=2.14.1 in /opt/conda/lib/python3.10/site-packages (from tensorflow-hub>=0.6.0->tf-models-official==2.13.*) (2.15.0)\nRequirement already satisfied: dm-tree~=0.1.1 in /opt/conda/lib/python3.10/site-packages (from tensorflow-model-optimization>=0.4.1->tf-models-official==2.13.*) (0.1.8)\nRequirement already satisfied: contourpy>=1.0.1 in /opt/conda/lib/python3.10/site-packages (from matplotlib->tf-models-official==2.13.*) (1.2.1)\nRequirement already satisfied: cycler>=0.10 in /opt/conda/lib/python3.10/site-packages (from matplotlib->tf-models-official==2.13.*) (0.12.1)\nRequirement already satisfied: fonttools>=4.22.0 in /opt/conda/lib/python3.10/site-packages (from matplotlib->tf-models-official==2.13.*) (4.53.0)\nRequirement already satisfied: kiwisolver>=1.0.1 in /opt/conda/lib/python3.10/site-packages (from matplotlib->tf-models-official==2.13.*) (1.4.5)\nRequirement already satisfied: pyparsing>=2.3.1 in /opt/conda/lib/python3.10/site-packages (from matplotlib->tf-models-official==2.13.*) (3.1.2)\nRequirement already satisfied: pyasn1>=0.1.7 in /opt/conda/lib/python3.10/site-packages (from oauth2client->tf-models-official==2.13.*) (0.6.0)\nRequirement already satisfied: pyasn1-modules>=0.0.5 in /opt/conda/lib/python3.10/site-packages (from oauth2client->tf-models-official==2.13.*) (0.4.0)\nRequirement already satisfied: rsa>=3.1.4 in /opt/conda/lib/python3.10/site-packages (from oauth2client->tf-models-official==2.13.*) (4.9)\nCollecting portalocker (from sacrebleu->tf-models-official==2.13.*)\n  Downloading portalocker-2.10.1-py3-none-any.whl.metadata (8.5 kB)\nRequirement already satisfied: regex in /opt/conda/lib/python3.10/site-packages (from sacrebleu->tf-models-official==2.13.*) (2024.5.15)\nRequirement already satisfied: tabulate>=0.8.9 in /opt/conda/lib/python3.10/site-packages (from sacrebleu->tf-models-official==2.13.*) (0.9.0)\nRequirement already satisfied: colorama in /opt/conda/lib/python3.10/site-packages (from sacrebleu->tf-models-official==2.13.*) (0.4.6)\nRequirement already satisfied: lxml in /opt/conda/lib/python3.10/site-packages (from sacrebleu->tf-models-official==2.13.*) (5.3.0)\nRequirement already satisfied: scikit-learn>=0.21.3 in /opt/conda/lib/python3.10/site-packages (from seqeval->tf-models-official==2.13.*) (1.2.2)\nRequirement already satisfied: click in /opt/conda/lib/python3.10/site-packages (from tensorflow-datasets->tf-models-official==2.13.*) (8.1.7)\nRequirement already satisfied: promise in /opt/conda/lib/python3.10/site-packages (from tensorflow-datasets->tf-models-official==2.13.*) (2.3)\nRequirement already satisfied: pyarrow in /opt/conda/lib/python3.10/site-packages (from tensorflow-datasets->tf-models-official==2.13.*) (17.0.0)\nRequirement already satisfied: simple-parsing in /opt/conda/lib/python3.10/site-packages (from tensorflow-datasets->tf-models-official==2.13.*) (0.1.5)\nRequirement already satisfied: tensorflow-metadata in /opt/conda/lib/python3.10/site-packages (from tensorflow-datasets->tf-models-official==2.13.*) (0.14.0)\nRequirement already satisfied: toml in /opt/conda/lib/python3.10/site-packages (from tensorflow-datasets->tf-models-official==2.13.*) (0.10.2)\nRequirement already satisfied: array-record>=0.5.0 in /opt/conda/lib/python3.10/site-packages (from tensorflow-datasets->tf-models-official==2.13.*) (0.5.1)\nRequirement already satisfied: etils>=1.6.0 in /opt/conda/lib/python3.10/site-packages (from etils[enp,epath,epy,etree]>=1.6.0; python_version < \"3.11\"->tensorflow-datasets->tf-models-official==2.13.*) (1.7.0)\nRequirement already satisfied: wheel<1.0,>=0.23.0 in /opt/conda/lib/python3.10/site-packages (from astunparse>=1.6.0->tensorflow~=2.13.0->tf-models-official==2.13.*) (0.43.0)\nRequirement already satisfied: fsspec in /opt/conda/lib/python3.10/site-packages (from etils[enp,epath,epy,etree]>=1.6.0; python_version < \"3.11\"->tensorflow-datasets->tf-models-official==2.13.*) (2024.6.1)\nRequirement already satisfied: importlib_resources in /opt/conda/lib/python3.10/site-packages (from etils[enp,epath,epy,etree]>=1.6.0; python_version < \"3.11\"->tensorflow-datasets->tf-models-official==2.13.*) (6.4.0)\nRequirement already satisfied: zipp in /opt/conda/lib/python3.10/site-packages (from etils[enp,epath,epy,etree]>=1.6.0; python_version < \"3.11\"->tensorflow-datasets->tf-models-official==2.13.*) (3.19.2)\nRequirement already satisfied: googleapis-common-protos<2.0.dev0,>=1.56.2 in /opt/conda/lib/python3.10/site-packages (from google-api-core!=2.0.*,!=2.1.*,!=2.2.*,!=2.3.0,<3.0.0.dev0,>=1.31.5->google-api-python-client>=1.6.7->tf-models-official==2.13.*) (1.63.1)\nRequirement already satisfied: cachetools<6.0,>=2.0.0 in /opt/conda/lib/python3.10/site-packages (from google-auth!=2.24.0,!=2.25.0,<3.0.0.dev0,>=1.32.0->google-api-python-client>=1.6.7->tf-models-official==2.13.*) (4.2.4)\nRequirement already satisfied: charset-normalizer<4,>=2 in /opt/conda/lib/python3.10/site-packages (from requests->kaggle>=1.3.9->tf-models-official==2.13.*) (3.3.2)\nRequirement already satisfied: idna<4,>=2.5 in /opt/conda/lib/python3.10/site-packages (from requests->kaggle>=1.3.9->tf-models-official==2.13.*) (3.7)\nRequirement already satisfied: joblib>=1.1.1 in /opt/conda/lib/python3.10/site-packages (from scikit-learn>=0.21.3->seqeval->tf-models-official==2.13.*) (1.4.2)\nRequirement already satisfied: threadpoolctl>=2.0.0 in /opt/conda/lib/python3.10/site-packages (from scikit-learn>=0.21.3->seqeval->tf-models-official==2.13.*) (3.5.0)\nRequirement already satisfied: google-auth-oauthlib<1.1,>=0.5 in /opt/conda/lib/python3.10/site-packages (from tensorboard<2.14,>=2.13->tensorflow~=2.13.0->tf-models-official==2.13.*) (1.0.0)\nRequirement already satisfied: markdown>=2.6.8 in /opt/conda/lib/python3.10/site-packages (from tensorboard<2.14,>=2.13->tensorflow~=2.13.0->tf-models-official==2.13.*) (3.6)\nRequirement already satisfied: tensorboard-data-server<0.8.0,>=0.7.0 in /opt/conda/lib/python3.10/site-packages (from tensorboard<2.14,>=2.13->tensorflow~=2.13.0->tf-models-official==2.13.*) (0.7.2)\nRequirement already satisfied: werkzeug>=1.0.1 in /opt/conda/lib/python3.10/site-packages (from tensorboard<2.14,>=2.13->tensorflow~=2.13.0->tf-models-official==2.13.*) (3.0.4)\nRequirement already satisfied: webencodings in /opt/conda/lib/python3.10/site-packages (from bleach->kaggle>=1.3.9->tf-models-official==2.13.*) (0.5.1)\nRequirement already satisfied: text-unidecode>=1.3 in /opt/conda/lib/python3.10/site-packages (from python-slugify->kaggle>=1.3.9->tf-models-official==2.13.*) (1.3)\nRequirement already satisfied: docstring-parser~=0.15 in /opt/conda/lib/python3.10/site-packages (from simple-parsing->tensorflow-datasets->tf-models-official==2.13.*) (0.16)\nRequirement already satisfied: requests-oauthlib>=0.7.0 in /opt/conda/lib/python3.10/site-packages (from google-auth-oauthlib<1.1,>=0.5->tensorboard<2.14,>=2.13->tensorflow~=2.13.0->tf-models-official==2.13.*) (2.0.0)\nRequirement already satisfied: MarkupSafe>=2.1.1 in /opt/conda/lib/python3.10/site-packages (from werkzeug>=1.0.1->tensorboard<2.14,>=2.13->tensorflow~=2.13.0->tf-models-official==2.13.*) (2.1.5)\nRequirement already satisfied: oauthlib>=3.0.0 in /opt/conda/lib/python3.10/site-packages (from requests-oauthlib>=0.7.0->google-auth-oauthlib<1.1,>=0.5->tensorboard<2.14,>=2.13->tensorflow~=2.13.0->tf-models-official==2.13.*) (3.2.2)\nDownloading tf_models_official-2.13.2-py2.py3-none-any.whl (2.6 MB)\n\u001B[2K   \u001B[90m━━━━━━━━━━━━━━━━━━━━━━━━━━━━━━━━━━━━━━━━\u001B[0m \u001B[32m2.6/2.6 MB\u001B[0m \u001B[31m36.3 MB/s\u001B[0m eta \u001B[36m0:00:00\u001B[0m00:01\u001B[0m00:01\u001B[0m\n\u001B[?25hDownloading tensorflow_model_optimization-0.8.0-py2.py3-none-any.whl (242 kB)\n\u001B[2K   \u001B[90m━━━━━━━━━━━━━━━━━━━━━━━━━━━━━━━━━━━━━━━━\u001B[0m \u001B[32m242.5/242.5 kB\u001B[0m \u001B[31m11.1 MB/s\u001B[0m eta \u001B[36m0:00:00\u001B[0m\n\u001B[?25hDownloading tf_slim-1.1.0-py2.py3-none-any.whl (352 kB)\n\u001B[2K   \u001B[90m━━━━━━━━━━━━━━━━━━━━━━━━━━━━━━━━━━━━━━━━\u001B[0m \u001B[32m352.1/352.1 kB\u001B[0m \u001B[31m16.0 MB/s\u001B[0m eta \u001B[36m0:00:00\u001B[0m\n\u001B[?25hDownloading gin_config-0.5.0-py3-none-any.whl (61 kB)\n\u001B[2K   \u001B[90m━━━━━━━━━━━━━━━━━━━━━━━━━━━━━━━━━━━━━━━━\u001B[0m \u001B[32m61.3/61.3 kB\u001B[0m \u001B[31m2.8 MB/s\u001B[0m eta \u001B[36m0:00:00\u001B[0m\n\u001B[?25hDownloading pycocotools-2.0.8-cp310-cp310-manylinux_2_17_x86_64.manylinux2014_x86_64.whl (427 kB)\n\u001B[2K   \u001B[90m━━━━━━━━━━━━━━━━━━━━━━━━━━━━━━━━━━━━━━━━\u001B[0m \u001B[32m427.8/427.8 kB\u001B[0m \u001B[31m18.3 MB/s\u001B[0m eta \u001B[36m0:00:00\u001B[0m\n\u001B[?25hDownloading sacrebleu-2.4.3-py3-none-any.whl (103 kB)\n\u001B[2K   \u001B[90m━━━━━━━━━━━━━━━━━━━━━━━━━━━━━━━━━━━━━━━━\u001B[0m \u001B[32m104.0/104.0 kB\u001B[0m \u001B[31m5.9 MB/s\u001B[0m eta \u001B[36m0:00:00\u001B[0m\n\u001B[?25hDownloading portalocker-2.10.1-py3-none-any.whl (18 kB)\nBuilding wheels for collected packages: seqeval\n  Building wheel for seqeval (setup.py) ... \u001B[?25ldone\n\u001B[?25h  Created wheel for seqeval: filename=seqeval-1.2.2-py3-none-any.whl size=16161 sha256=fcbe3f000e65ace13dfbb68cb0737b19cee19793a443a22f522c44fb6431d407\n  Stored in directory: /root/.cache/pip/wheels/1a/67/4a/ad4082dd7dfc30f2abfe4d80a2ed5926a506eb8a972b4767fa\nSuccessfully built seqeval\nInstalling collected packages: gin-config, tf-slim, tensorflow-model-optimization, portalocker, sacrebleu, seqeval, pycocotools, tf-models-official\nSuccessfully installed gin-config-0.5.0 portalocker-2.10.1 pycocotools-2.0.8 sacrebleu-2.4.3 seqeval-1.2.2 tensorflow-model-optimization-0.8.0 tf-models-official-2.13.2 tf-slim-1.1.0\n",
     "output_type": "stream"
    }
   ]
  },
  {
   "cell_type": "code",
   "source": [
    "import os\n",
    "import shutil\n",
    "import pandas as pd\n",
    "import tensorflow as tf\n",
    "import tensorflow_hub as hub\n",
    "import tensorflow_text as text\n",
    "from official.nlp import optimization  # to create AdamW optimizer\n",
    "\n",
    "import matplotlib.pyplot as plt\n",
    "\n",
    "tf.get_logger().setLevel('ERROR')"
   ],
   "metadata": {
    "id": "_XgTpm9ZxoN9",
    "execution": {
     "iopub.status.busy": "2024-10-20T08:01:15.334116Z",
     "iopub.execute_input": "2024-10-20T08:01:15.334621Z",
     "iopub.status.idle": "2024-10-20T08:01:22.174195Z",
     "shell.execute_reply.started": "2024-10-20T08:01:15.334571Z",
     "shell.execute_reply": "2024-10-20T08:01:22.172855Z"
    },
    "trusted": true
   },
   "execution_count": 2,
   "outputs": []
  },
  {
   "cell_type": "markdown",
   "source": [
    "## Sentiment analysis\n",
    "\n",
    "This notebook trains a sentiment analysis model to classify movie reviews as *positive* or *negative*, based on the text of the review.\n",
    "\n",
    "You'll use the [Large Movie Review Dataset](https://ai.stanford.edu/~amaas/data/sentiment/) that contains the text of 50,000 movie reviews from the [Internet Movie Database](https://www.imdb.com/)."
   ],
   "metadata": {
    "id": "q6MugfEgDRpY"
   }
  },
  {
   "cell_type": "markdown",
   "source": [
    "### Download the IMDB dataset\n",
    "\n",
    "Let's download and extract the dataset, then explore the directory structure.\n"
   ],
   "metadata": {
    "id": "Vnvd4mrtPHHV"
   }
  },
  {
   "cell_type": "code",
   "source": [
    "dataset = pd.read_csv('/kaggle/input/hate-speech/Hate speech excel file (1).csv', encoding='latin-1')"
   ],
   "metadata": {
    "id": "pOdqCMoQDRJL",
    "execution": {
     "iopub.status.busy": "2024-10-20T08:01:22.177141Z",
     "iopub.execute_input": "2024-10-20T08:01:22.178239Z",
     "iopub.status.idle": "2024-10-20T08:01:22.226070Z",
     "shell.execute_reply.started": "2024-10-20T08:01:22.178175Z",
     "shell.execute_reply": "2024-10-20T08:01:22.224844Z"
    },
    "trusted": true
   },
   "execution_count": 3,
   "outputs": []
  },
  {
   "cell_type": "code",
   "source": [
    "dataset.head()"
   ],
   "metadata": {
    "id": "E8APTHnrkysw",
    "outputId": "5b5d652d-97e8-4f2f-ef7e-94a6fea10f95",
    "execution": {
     "iopub.status.busy": "2024-10-20T08:01:22.227516Z",
     "iopub.execute_input": "2024-10-20T08:01:22.227963Z",
     "iopub.status.idle": "2024-10-20T08:01:22.254498Z",
     "shell.execute_reply.started": "2024-10-20T08:01:22.227921Z",
     "shell.execute_reply": "2024-10-20T08:01:22.253285Z"
    },
    "trusted": true
   },
   "execution_count": 4,
   "outputs": [
    {
     "execution_count": 4,
     "output_type": "execute_result",
     "data": {
      "text/plain": "   Unnamed: 0           id     segment_id  \\\n0           0       #NAME?         #NAME?   \n1           1  lpYVmd8a1rY  lpYVmd8a1rY_1   \n2           2  lpYVmd8a1rY  lpYVmd8a1rY_2   \n3           3  lpYVmd8a1rY  lpYVmd8a1rY_3   \n4           4  lpYVmd8a1rY  lpYVmd8a1rY_4   \n\n                                               title  \\\n0  LIVE l PM Stresses On Zero Tolerance To Terror...   \n1  Reading park stabbings: UK Labour leader react...   \n2  Reading park stabbings: UK Labour leader react...   \n3  Reading park stabbings: UK Labour leader react...   \n4  Reading park stabbings: UK Labour leader react...   \n\n                                     caption_segment  sentiment  \n0  freedom and civilization it knows no boundarie...        1.0  \n1  well this was just a horrific incident and our...        1.0  \n2  runs its course but I will want to work with t...       -1.0  \n3  moment investigation has to take its course bu...        1.0  \n4  our responders the NHS and the police yet agai...       -1.0  ",
      "text/html": "<div>\n<style scoped>\n    .dataframe tbody tr th:only-of-type {\n        vertical-align: middle;\n    }\n\n    .dataframe tbody tr th {\n        vertical-align: top;\n    }\n\n    .dataframe thead th {\n        text-align: right;\n    }\n</style>\n<table border=\"1\" class=\"dataframe\">\n  <thead>\n    <tr style=\"text-align: right;\">\n      <th></th>\n      <th>Unnamed: 0</th>\n      <th>id</th>\n      <th>segment_id</th>\n      <th>title</th>\n      <th>caption_segment</th>\n      <th>sentiment</th>\n    </tr>\n  </thead>\n  <tbody>\n    <tr>\n      <th>0</th>\n      <td>0</td>\n      <td>#NAME?</td>\n      <td>#NAME?</td>\n      <td>LIVE l PM Stresses On Zero Tolerance To Terror...</td>\n      <td>freedom and civilization it knows no boundarie...</td>\n      <td>1.0</td>\n    </tr>\n    <tr>\n      <th>1</th>\n      <td>1</td>\n      <td>lpYVmd8a1rY</td>\n      <td>lpYVmd8a1rY_1</td>\n      <td>Reading park stabbings: UK Labour leader react...</td>\n      <td>well this was just a horrific incident and our...</td>\n      <td>1.0</td>\n    </tr>\n    <tr>\n      <th>2</th>\n      <td>2</td>\n      <td>lpYVmd8a1rY</td>\n      <td>lpYVmd8a1rY_2</td>\n      <td>Reading park stabbings: UK Labour leader react...</td>\n      <td>runs its course but I will want to work with t...</td>\n      <td>-1.0</td>\n    </tr>\n    <tr>\n      <th>3</th>\n      <td>3</td>\n      <td>lpYVmd8a1rY</td>\n      <td>lpYVmd8a1rY_3</td>\n      <td>Reading park stabbings: UK Labour leader react...</td>\n      <td>moment investigation has to take its course bu...</td>\n      <td>1.0</td>\n    </tr>\n    <tr>\n      <th>4</th>\n      <td>4</td>\n      <td>lpYVmd8a1rY</td>\n      <td>lpYVmd8a1rY_4</td>\n      <td>Reading park stabbings: UK Labour leader react...</td>\n      <td>our responders the NHS and the police yet agai...</td>\n      <td>-1.0</td>\n    </tr>\n  </tbody>\n</table>\n</div>"
     },
     "metadata": {}
    }
   ]
  },
  {
   "cell_type": "code",
   "source": [
    "dataset['sentiment'].isnull().sum()"
   ],
   "metadata": {
    "id": "KgWHMKU1k3JX",
    "outputId": "3387ece9-c1dc-430e-f9fd-a04bd3a772bb",
    "execution": {
     "iopub.status.busy": "2024-10-20T08:01:22.258017Z",
     "iopub.execute_input": "2024-10-20T08:01:22.258564Z",
     "iopub.status.idle": "2024-10-20T08:01:22.267686Z",
     "shell.execute_reply.started": "2024-10-20T08:01:22.258503Z",
     "shell.execute_reply": "2024-10-20T08:01:22.266159Z"
    },
    "trusted": true
   },
   "execution_count": 5,
   "outputs": [
    {
     "execution_count": 5,
     "output_type": "execute_result",
     "data": {
      "text/plain": "50"
     },
     "metadata": {}
    }
   ]
  },
  {
   "cell_type": "code",
   "source": [
    "dataset.dropna(subset=['sentiment'], inplace=True)"
   ],
   "metadata": {
    "id": "2UdOUj1Ok-9s",
    "execution": {
     "iopub.status.busy": "2024-10-20T08:01:22.269051Z",
     "iopub.execute_input": "2024-10-20T08:01:22.269501Z",
     "iopub.status.idle": "2024-10-20T08:01:22.288977Z",
     "shell.execute_reply.started": "2024-10-20T08:01:22.269452Z",
     "shell.execute_reply": "2024-10-20T08:01:22.287477Z"
    },
    "trusted": true
   },
   "execution_count": 6,
   "outputs": []
  },
  {
   "cell_type": "code",
   "source": [
    "dataset['sentiment']=dataset['sentiment'].apply(lambda x : 1 if x==1.0 else 0)"
   ],
   "metadata": {
    "id": "6Xae-yeglN8v",
    "execution": {
     "iopub.status.busy": "2024-10-20T08:01:22.290666Z",
     "iopub.execute_input": "2024-10-20T08:01:22.291111Z",
     "iopub.status.idle": "2024-10-20T08:01:22.306668Z",
     "shell.execute_reply.started": "2024-10-20T08:01:22.291059Z",
     "shell.execute_reply": "2024-10-20T08:01:22.305234Z"
    },
    "trusted": true
   },
   "execution_count": 7,
   "outputs": []
  },
  {
   "cell_type": "markdown",
   "source": [
    "Next, you will use the `text_dataset_from_directory` utility to create a labeled `tf.data.Dataset`.\n",
    "\n",
    "The IMDB dataset has already been divided into train and test, but it lacks a validation set. Let's create a validation set using an 80:20 split of the training data by using the `validation_split` argument below.\n",
    "\n",
    "Note:  When using the `validation_split` and `subset` arguments, make sure to either specify a random seed, or to pass `shuffle=False`, so that the validation and training splits have no overlap."
   ],
   "metadata": {
    "id": "lN9lWCYfPo7b"
   }
  },
  {
   "cell_type": "code",
   "source": [
    "from sklearn.model_selection import train_test_split"
   ],
   "metadata": {
    "id": "gcqlTAPjkeCb",
    "execution": {
     "iopub.status.busy": "2024-10-20T08:01:22.308963Z",
     "iopub.execute_input": "2024-10-20T08:01:22.309446Z",
     "iopub.status.idle": "2024-10-20T08:01:22.874460Z",
     "shell.execute_reply.started": "2024-10-20T08:01:22.309399Z",
     "shell.execute_reply": "2024-10-20T08:01:22.873203Z"
    },
    "trusted": true
   },
   "execution_count": 8,
   "outputs": []
  },
  {
   "cell_type": "code",
   "source": [
    "AUTOTUNE = tf.data.AUTOTUNE\n",
    "batch_size = 32\n",
    "seed = 42\n",
    "\n",
    "train_data, test_data = train_test_split(dataset, test_size=0.2, random_state=seed)\n",
    "train_data, val_data = train_test_split(train_data, test_size=0.2, random_state=seed)\n",
    "\n",
    "train_ds = tf.data.Dataset.from_tensor_slices((train_data['caption_segment'].values, train_data['sentiment'].values))\n",
    "val_ds = tf.data.Dataset.from_tensor_slices((val_data['caption_segment'].values, val_data['sentiment'].values))  # Make sure to use the correct column names\n",
    "test_ds = tf.data.Dataset.from_tensor_slices((test_data['caption_segment'].values, test_data['sentiment'].values))  # Ensure test_data is defined\n",
    "\n",
    "train_ds = train_ds.batch(batch_size).cache().prefetch(buffer_size=AUTOTUNE)\n",
    "val_ds = val_ds.batch(batch_size).cache().prefetch(buffer_size=AUTOTUNE)\n",
    "test_ds = test_ds.batch(batch_size).cache().prefetch(buffer_size=AUTOTUNE)"
   ],
   "metadata": {
    "id": "6IwI_2bcIeX8",
    "execution": {
     "iopub.status.busy": "2024-10-20T08:01:22.876028Z",
     "iopub.execute_input": "2024-10-20T08:01:22.876991Z",
     "iopub.status.idle": "2024-10-20T08:01:22.939349Z",
     "shell.execute_reply.started": "2024-10-20T08:01:22.876931Z",
     "shell.execute_reply": "2024-10-20T08:01:22.938080Z"
    },
    "trusted": true
   },
   "execution_count": 9,
   "outputs": []
  },
  {
   "cell_type": "markdown",
   "source": [
    "Let's take a look at a few reviews."
   ],
   "metadata": {
    "id": "HGm10A5HRGXp"
   }
  },
  {
   "cell_type": "markdown",
   "source": [
    "## Loading models from TensorFlow Hub\n",
    "\n",
    "Here you can choose which BERT model you will load from TensorFlow Hub and fine-tune. There are multiple BERT models available.\n",
    "\n",
    "  - [BERT-Base](https://tfhub.dev/tensorflow/bert_en_uncased_L-12_H-768_A-12/3), [Uncased](https://tfhub.dev/tensorflow/bert_en_uncased_L-12_H-768_A-12/3) and [seven more models](https://tfhub.dev/google/collections/bert/1) with trained weights released by the original BERT authors.\n",
    "  - [Small BERTs](https://tfhub.dev/google/collections/bert/1) have the same general architecture but fewer and/or smaller Transformer blocks, which lets you explore tradeoffs between speed, size and quality.\n",
    "  - [ALBERT](https://tfhub.dev/google/collections/albert/1): four different sizes of \"A Lite BERT\" that reduces model size (but not computation time) by sharing parameters between layers.\n",
    "  - [BERT Experts](https://tfhub.dev/google/collections/experts/bert/1): eight models that all have the BERT-base architecture but offer a choice between different pre-training domains, to align more closely with the target task.\n",
    "  - [Electra](https://tfhub.dev/google/collections/electra/1) has the same architecture as BERT (in three different sizes), but gets pre-trained as a discriminator in a set-up that resembles a Generative Adversarial Network (GAN).\n",
    "  - BERT with Talking-Heads Attention and Gated GELU [[base](https://tfhub.dev/tensorflow/talkheads_ggelu_bert_en_base/1), [large](https://tfhub.dev/tensorflow/talkheads_ggelu_bert_en_large/1)] has two improvements to the core of the Transformer architecture.\n",
    "\n",
    "The model documentation on TensorFlow Hub has more details and references to the\n",
    "research literature. Follow the links above, or click on the [`tfhub.dev`](http://tfhub.dev) URL\n",
    "printed after the next cell execution.\n",
    "\n",
    "The suggestion is to start with a Small BERT (with fewer parameters) since they are faster to fine-tune. If you like a small model but with higher accuracy, ALBERT might be your next option. If you want even better accuracy, choose\n",
    "one of the classic BERT sizes or their recent refinements like Electra, Talking Heads, or a BERT Expert.\n",
    "\n",
    "Aside from the models available below, there are [multiple versions](https://tfhub.dev/google/collections/transformer_encoders_text/1) of the models that are larger and can yield even better accuracy, but they are too big to be fine-tuned on a single GPU. You will be able to do that on the [Solve GLUE tasks using BERT on a TPU colab](https://www.tensorflow.org/text/tutorials/bert_glue).\n",
    "\n",
    "You'll see in the code below that switching the tfhub.dev URL is enough to try any of these models, because all the differences between them are encapsulated in the SavedModels from TF Hub."
   ],
   "metadata": {
    "id": "dX8FtlpGJRE6"
   }
  },
  {
   "cell_type": "code",
   "source": [
    "#@title Choose a BERT model to fine-tune\n",
    "\n",
    "bert_model_name = 'small_bert/bert_en_uncased_L-4_H-512_A-8'  #@param [\"bert_en_uncased_L-12_H-768_A-12\", \"bert_en_cased_L-12_H-768_A-12\", \"bert_multi_cased_L-12_H-768_A-12\", \"small_bert/bert_en_uncased_L-2_H-128_A-2\", \"small_bert/bert_en_uncased_L-2_H-256_A-4\", \"small_bert/bert_en_uncased_L-2_H-512_A-8\", \"small_bert/bert_en_uncased_L-2_H-768_A-12\", \"small_bert/bert_en_uncased_L-4_H-128_A-2\", \"small_bert/bert_en_uncased_L-4_H-256_A-4\", \"small_bert/bert_en_uncased_L-4_H-512_A-8\", \"small_bert/bert_en_uncased_L-4_H-768_A-12\", \"small_bert/bert_en_uncased_L-6_H-128_A-2\", \"small_bert/bert_en_uncased_L-6_H-256_A-4\", \"small_bert/bert_en_uncased_L-6_H-512_A-8\", \"small_bert/bert_en_uncased_L-6_H-768_A-12\", \"small_bert/bert_en_uncased_L-8_H-128_A-2\", \"small_bert/bert_en_uncased_L-8_H-256_A-4\", \"small_bert/bert_en_uncased_L-8_H-512_A-8\", \"small_bert/bert_en_uncased_L-8_H-768_A-12\", \"small_bert/bert_en_uncased_L-10_H-128_A-2\", \"small_bert/bert_en_uncased_L-10_H-256_A-4\", \"small_bert/bert_en_uncased_L-10_H-512_A-8\", \"small_bert/bert_en_uncased_L-10_H-768_A-12\", \"small_bert/bert_en_uncased_L-12_H-128_A-2\", \"small_bert/bert_en_uncased_L-12_H-256_A-4\", \"small_bert/bert_en_uncased_L-12_H-512_A-8\", \"small_bert/bert_en_uncased_L-12_H-768_A-12\", \"albert_en_base\", \"electra_small\", \"electra_base\", \"experts_pubmed\", \"experts_wiki_books\", \"talking-heads_base\"]\n",
    "\n",
    "map_name_to_handle = {\n",
    "    'bert_en_uncased_L-12_H-768_A-12':\n",
    "        'https://tfhub.dev/tensorflow/bert_en_uncased_L-12_H-768_A-12/3',\n",
    "    'bert_en_cased_L-12_H-768_A-12':\n",
    "        'https://tfhub.dev/tensorflow/bert_en_cased_L-12_H-768_A-12/3',\n",
    "    'bert_multi_cased_L-12_H-768_A-12':\n",
    "        'https://tfhub.dev/tensorflow/bert_multi_cased_L-12_H-768_A-12/3',\n",
    "    'small_bert/bert_en_uncased_L-2_H-128_A-2':\n",
    "        'https://tfhub.dev/tensorflow/small_bert/bert_en_uncased_L-2_H-128_A-2/1',\n",
    "    'small_bert/bert_en_uncased_L-2_H-256_A-4':\n",
    "        'https://tfhub.dev/tensorflow/small_bert/bert_en_uncased_L-2_H-256_A-4/1',\n",
    "    'small_bert/bert_en_uncased_L-2_H-512_A-8':\n",
    "        'https://tfhub.dev/tensorflow/small_bert/bert_en_uncased_L-2_H-512_A-8/1',\n",
    "    'small_bert/bert_en_uncased_L-2_H-768_A-12':\n",
    "        'https://tfhub.dev/tensorflow/small_bert/bert_en_uncased_L-2_H-768_A-12/1',\n",
    "    'small_bert/bert_en_uncased_L-4_H-128_A-2':\n",
    "        'https://tfhub.dev/tensorflow/small_bert/bert_en_uncased_L-4_H-128_A-2/1',\n",
    "    'small_bert/bert_en_uncased_L-4_H-256_A-4':\n",
    "        'https://tfhub.dev/tensorflow/small_bert/bert_en_uncased_L-4_H-256_A-4/1',\n",
    "    'small_bert/bert_en_uncased_L-4_H-512_A-8':\n",
    "        'https://tfhub.dev/tensorflow/small_bert/bert_en_uncased_L-4_H-512_A-8/1',\n",
    "    'small_bert/bert_en_uncased_L-4_H-768_A-12':\n",
    "        'https://tfhub.dev/tensorflow/small_bert/bert_en_uncased_L-4_H-768_A-12/1',\n",
    "    'small_bert/bert_en_uncased_L-6_H-128_A-2':\n",
    "        'https://tfhub.dev/tensorflow/small_bert/bert_en_uncased_L-6_H-128_A-2/1',\n",
    "    'small_bert/bert_en_uncased_L-6_H-256_A-4':\n",
    "        'https://tfhub.dev/tensorflow/small_bert/bert_en_uncased_L-6_H-256_A-4/1',\n",
    "    'small_bert/bert_en_uncased_L-6_H-512_A-8':\n",
    "        'https://tfhub.dev/tensorflow/small_bert/bert_en_uncased_L-6_H-512_A-8/1',\n",
    "    'small_bert/bert_en_uncased_L-6_H-768_A-12':\n",
    "        'https://tfhub.dev/tensorflow/small_bert/bert_en_uncased_L-6_H-768_A-12/1',\n",
    "    'small_bert/bert_en_uncased_L-8_H-128_A-2':\n",
    "        'https://tfhub.dev/tensorflow/small_bert/bert_en_uncased_L-8_H-128_A-2/1',\n",
    "    'small_bert/bert_en_uncased_L-8_H-256_A-4':\n",
    "        'https://tfhub.dev/tensorflow/small_bert/bert_en_uncased_L-8_H-256_A-4/1',\n",
    "    'small_bert/bert_en_uncased_L-8_H-512_A-8':\n",
    "        'https://tfhub.dev/tensorflow/small_bert/bert_en_uncased_L-8_H-512_A-8/1',\n",
    "    'small_bert/bert_en_uncased_L-8_H-768_A-12':\n",
    "        'https://tfhub.dev/tensorflow/small_bert/bert_en_uncased_L-8_H-768_A-12/1',\n",
    "    'small_bert/bert_en_uncased_L-10_H-128_A-2':\n",
    "        'https://tfhub.dev/tensorflow/small_bert/bert_en_uncased_L-10_H-128_A-2/1',\n",
    "    'small_bert/bert_en_uncased_L-10_H-256_A-4':\n",
    "        'https://tfhub.dev/tensorflow/small_bert/bert_en_uncased_L-10_H-256_A-4/1',\n",
    "    'small_bert/bert_en_uncased_L-10_H-512_A-8':\n",
    "        'https://tfhub.dev/tensorflow/small_bert/bert_en_uncased_L-10_H-512_A-8/1',\n",
    "    'small_bert/bert_en_uncased_L-10_H-768_A-12':\n",
    "        'https://tfhub.dev/tensorflow/small_bert/bert_en_uncased_L-10_H-768_A-12/1',\n",
    "    'small_bert/bert_en_uncased_L-12_H-128_A-2':\n",
    "        'https://tfhub.dev/tensorflow/small_bert/bert_en_uncased_L-12_H-128_A-2/1',\n",
    "    'small_bert/bert_en_uncased_L-12_H-256_A-4':\n",
    "        'https://tfhub.dev/tensorflow/small_bert/bert_en_uncased_L-12_H-256_A-4/1',\n",
    "    'small_bert/bert_en_uncased_L-12_H-512_A-8':\n",
    "        'https://tfhub.dev/tensorflow/small_bert/bert_en_uncased_L-12_H-512_A-8/1',\n",
    "    'small_bert/bert_en_uncased_L-12_H-768_A-12':\n",
    "        'https://tfhub.dev/tensorflow/small_bert/bert_en_uncased_L-12_H-768_A-12/1',\n",
    "    'albert_en_base':\n",
    "        'https://tfhub.dev/tensorflow/albert_en_base/2',\n",
    "    'electra_small':\n",
    "        'https://tfhub.dev/google/electra_small/2',\n",
    "    'electra_base':\n",
    "        'https://tfhub.dev/google/electra_base/2',\n",
    "    'experts_pubmed':\n",
    "        'https://tfhub.dev/google/experts/bert/pubmed/2',\n",
    "    'experts_wiki_books':\n",
    "        'https://tfhub.dev/google/experts/bert/wiki_books/2',\n",
    "    'talking-heads_base':\n",
    "        'https://tfhub.dev/tensorflow/talkheads_ggelu_bert_en_base/1',\n",
    "}\n",
    "\n",
    "map_model_to_preprocess = {\n",
    "    'bert_en_uncased_L-12_H-768_A-12':\n",
    "        'https://tfhub.dev/tensorflow/bert_en_uncased_preprocess/3',\n",
    "    'bert_en_cased_L-12_H-768_A-12':\n",
    "        'https://tfhub.dev/tensorflow/bert_en_cased_preprocess/3',\n",
    "    'small_bert/bert_en_uncased_L-2_H-128_A-2':\n",
    "        'https://tfhub.dev/tensorflow/bert_en_uncased_preprocess/3',\n",
    "    'small_bert/bert_en_uncased_L-2_H-256_A-4':\n",
    "        'https://tfhub.dev/tensorflow/bert_en_uncased_preprocess/3',\n",
    "    'small_bert/bert_en_uncased_L-2_H-512_A-8':\n",
    "        'https://tfhub.dev/tensorflow/bert_en_uncased_preprocess/3',\n",
    "    'small_bert/bert_en_uncased_L-2_H-768_A-12':\n",
    "        'https://tfhub.dev/tensorflow/bert_en_uncased_preprocess/3',\n",
    "    'small_bert/bert_en_uncased_L-4_H-128_A-2':\n",
    "        'https://tfhub.dev/tensorflow/bert_en_uncased_preprocess/3',\n",
    "    'small_bert/bert_en_uncased_L-4_H-256_A-4':\n",
    "        'https://tfhub.dev/tensorflow/bert_en_uncased_preprocess/3',\n",
    "    'small_bert/bert_en_uncased_L-4_H-512_A-8':\n",
    "        'https://tfhub.dev/tensorflow/bert_en_uncased_preprocess/3',\n",
    "    'small_bert/bert_en_uncased_L-4_H-768_A-12':\n",
    "        'https://tfhub.dev/tensorflow/bert_en_uncased_preprocess/3',\n",
    "    'small_bert/bert_en_uncased_L-6_H-128_A-2':\n",
    "        'https://tfhub.dev/tensorflow/bert_en_uncased_preprocess/3',\n",
    "    'small_bert/bert_en_uncased_L-6_H-256_A-4':\n",
    "        'https://tfhub.dev/tensorflow/bert_en_uncased_preprocess/3',\n",
    "    'small_bert/bert_en_uncased_L-6_H-512_A-8':\n",
    "        'https://tfhub.dev/tensorflow/bert_en_uncased_preprocess/3',\n",
    "    'small_bert/bert_en_uncased_L-6_H-768_A-12':\n",
    "        'https://tfhub.dev/tensorflow/bert_en_uncased_preprocess/3',\n",
    "    'small_bert/bert_en_uncased_L-8_H-128_A-2':\n",
    "        'https://tfhub.dev/tensorflow/bert_en_uncased_preprocess/3',\n",
    "    'small_bert/bert_en_uncased_L-8_H-256_A-4':\n",
    "        'https://tfhub.dev/tensorflow/bert_en_uncased_preprocess/3',\n",
    "    'small_bert/bert_en_uncased_L-8_H-512_A-8':\n",
    "        'https://tfhub.dev/tensorflow/bert_en_uncased_preprocess/3',\n",
    "    'small_bert/bert_en_uncased_L-8_H-768_A-12':\n",
    "        'https://tfhub.dev/tensorflow/bert_en_uncased_preprocess/3',\n",
    "    'small_bert/bert_en_uncased_L-10_H-128_A-2':\n",
    "        'https://tfhub.dev/tensorflow/bert_en_uncased_preprocess/3',\n",
    "    'small_bert/bert_en_uncased_L-10_H-256_A-4':\n",
    "        'https://tfhub.dev/tensorflow/bert_en_uncased_preprocess/3',\n",
    "    'small_bert/bert_en_uncased_L-10_H-512_A-8':\n",
    "        'https://tfhub.dev/tensorflow/bert_en_uncased_preprocess/3',\n",
    "    'small_bert/bert_en_uncased_L-10_H-768_A-12':\n",
    "        'https://tfhub.dev/tensorflow/bert_en_uncased_preprocess/3',\n",
    "    'small_bert/bert_en_uncased_L-12_H-128_A-2':\n",
    "        'https://tfhub.dev/tensorflow/bert_en_uncased_preprocess/3',\n",
    "    'small_bert/bert_en_uncased_L-12_H-256_A-4':\n",
    "        'https://tfhub.dev/tensorflow/bert_en_uncased_preprocess/3',\n",
    "    'small_bert/bert_en_uncased_L-12_H-512_A-8':\n",
    "        'https://tfhub.dev/tensorflow/bert_en_uncased_preprocess/3',\n",
    "    'small_bert/bert_en_uncased_L-12_H-768_A-12':\n",
    "        'https://tfhub.dev/tensorflow/bert_en_uncased_preprocess/3',\n",
    "    'bert_multi_cased_L-12_H-768_A-12':\n",
    "        'https://tfhub.dev/tensorflow/bert_multi_cased_preprocess/3',\n",
    "    'albert_en_base':\n",
    "        'https://tfhub.dev/tensorflow/albert_en_preprocess/3',\n",
    "    'electra_small':\n",
    "        'https://tfhub.dev/tensorflow/bert_en_uncased_preprocess/3',\n",
    "    'electra_base':\n",
    "        'https://tfhub.dev/tensorflow/bert_en_uncased_preprocess/3',\n",
    "    'experts_pubmed':\n",
    "        'https://tfhub.dev/tensorflow/bert_en_uncased_preprocess/3',\n",
    "    'experts_wiki_books':\n",
    "        'https://tfhub.dev/tensorflow/bert_en_uncased_preprocess/3',\n",
    "    'talking-heads_base':\n",
    "        'https://tfhub.dev/tensorflow/bert_en_uncased_preprocess/3',\n",
    "}\n",
    "\n",
    "tfhub_handle_encoder = map_name_to_handle[bert_model_name]\n",
    "tfhub_handle_preprocess = map_model_to_preprocess[bert_model_name]\n",
    "\n",
    "print(f'BERT model selected           : {tfhub_handle_encoder}')\n",
    "print(f'Preprocess model auto-selected: {tfhub_handle_preprocess}')"
   ],
   "metadata": {
    "cellView": "form",
    "id": "y8_ctG55-uTX",
    "outputId": "92f5d891-c0b2-485f-ce52-aead9e0a9950",
    "execution": {
     "iopub.status.busy": "2024-10-20T08:01:22.941604Z",
     "iopub.execute_input": "2024-10-20T08:01:22.942111Z",
     "iopub.status.idle": "2024-10-20T08:01:22.964455Z",
     "shell.execute_reply.started": "2024-10-20T08:01:22.942055Z",
     "shell.execute_reply": "2024-10-20T08:01:22.963077Z"
    },
    "trusted": true
   },
   "execution_count": 10,
   "outputs": [
    {
     "name": "stdout",
     "text": "BERT model selected           : https://tfhub.dev/tensorflow/small_bert/bert_en_uncased_L-4_H-512_A-8/1\nPreprocess model auto-selected: https://tfhub.dev/tensorflow/bert_en_uncased_preprocess/3\n",
     "output_type": "stream"
    }
   ]
  },
  {
   "cell_type": "markdown",
   "source": [
    "## The preprocessing model\n",
    "\n",
    "Text inputs need to be transformed to numeric token ids and arranged in several Tensors before being input to BERT. TensorFlow Hub provides a matching preprocessing model for each of the BERT models discussed above, which implements this transformation using TF ops from the TF.text library. It is not necessary to run pure Python code outside your TensorFlow model to preprocess text.\n",
    "\n",
    "The preprocessing model must be the one referenced by the documentation of the BERT model, which you can read at the URL printed above. For BERT models from the drop-down above, the preprocessing model is selected automatically.\n",
    "\n",
    "Note: You will load the preprocessing model into a [hub.KerasLayer](https://www.tensorflow.org/hub/api_docs/python/hub/KerasLayer) to compose your fine-tuned model. This is the preferred API to load a TF2-style SavedModel from TF Hub into a Keras model."
   ],
   "metadata": {
    "id": "7WrcxxTRDdHi"
   }
  },
  {
   "cell_type": "code",
   "source": [
    "bert_preprocess_model = hub.KerasLayer(tfhub_handle_preprocess)"
   ],
   "metadata": {
    "id": "0SQi-jWd_jzq",
    "execution": {
     "iopub.status.busy": "2024-10-20T08:01:22.970225Z",
     "iopub.execute_input": "2024-10-20T08:01:22.970817Z",
     "iopub.status.idle": "2024-10-20T08:01:25.927000Z",
     "shell.execute_reply.started": "2024-10-20T08:01:22.970763Z",
     "shell.execute_reply": "2024-10-20T08:01:25.925616Z"
    },
    "trusted": true
   },
   "execution_count": 11,
   "outputs": []
  },
  {
   "cell_type": "markdown",
   "source": [
    "Let's try the preprocessing model on some text and see the output:"
   ],
   "metadata": {
    "id": "x4naBiEE_cZX"
   }
  },
  {
   "cell_type": "code",
   "source": [
    "text_test = ['this is such an amazing movie!']\n",
    "text_preprocessed = bert_preprocess_model(text_test)\n",
    "\n",
    "print(f'Keys       : {list(text_preprocessed.keys())}')\n",
    "print(f'Shape      : {text_preprocessed[\"input_word_ids\"].shape}')\n",
    "print(f'Word Ids   : {text_preprocessed[\"input_word_ids\"][0, :12]}')\n",
    "print(f'Input Mask : {text_preprocessed[\"input_mask\"][0, :12]}')\n",
    "print(f'Type Ids   : {text_preprocessed[\"input_type_ids\"][0, :12]}')"
   ],
   "metadata": {
    "id": "r9-zCzJpnuwS",
    "outputId": "38dd0194-7606-4ebd-8f77-5526d5d6a512",
    "execution": {
     "iopub.status.busy": "2024-10-20T08:01:25.928580Z",
     "iopub.execute_input": "2024-10-20T08:01:25.928996Z",
     "iopub.status.idle": "2024-10-20T08:01:26.128571Z",
     "shell.execute_reply.started": "2024-10-20T08:01:25.928951Z",
     "shell.execute_reply": "2024-10-20T08:01:26.127316Z"
    },
    "trusted": true
   },
   "execution_count": 12,
   "outputs": [
    {
     "name": "stdout",
     "text": "Keys       : ['input_type_ids', 'input_word_ids', 'input_mask']\nShape      : (1, 128)\nWord Ids   : [ 101 2023 2003 2107 2019 6429 3185  999  102    0    0    0]\nInput Mask : [1 1 1 1 1 1 1 1 1 0 0 0]\nType Ids   : [0 0 0 0 0 0 0 0 0 0 0 0]\n",
     "output_type": "stream"
    }
   ]
  },
  {
   "cell_type": "markdown",
   "source": [
    "As you can see, now you have the 3 outputs from the preprocessing that a BERT model would use (`input_words_id`, `input_mask` and `input_type_ids`).\n",
    "\n",
    "Some other important points:\n",
    "- The input is truncated to 128 tokens. The number of tokens can be customized, and you can see more details on the [Solve GLUE tasks using BERT on a TPU colab](https://www.tensorflow.org/text/tutorials/bert_glue).\n",
    "- The `input_type_ids` only have one value (0) because this is a single sentence input. For a multiple sentence input, it would have one number for each input.\n",
    "\n",
    "Since this text preprocessor is a TensorFlow model, It can be included in your model directly."
   ],
   "metadata": {
    "id": "EqL7ihkN_862"
   }
  },
  {
   "cell_type": "markdown",
   "source": [
    "## Using the BERT model\n",
    "\n",
    "Before putting BERT into your own model, let's take a look at its outputs. You will load it from TF Hub and see the returned values."
   ],
   "metadata": {
    "id": "DKnLPSEmtp9i"
   }
  },
  {
   "cell_type": "code",
   "source": [
    "bert_model = hub.KerasLayer(tfhub_handle_encoder)"
   ],
   "metadata": {
    "id": "tXxYpK8ixL34",
    "execution": {
     "iopub.status.busy": "2024-10-20T08:01:26.130082Z",
     "iopub.execute_input": "2024-10-20T08:01:26.130485Z",
     "iopub.status.idle": "2024-10-20T08:01:33.886373Z",
     "shell.execute_reply.started": "2024-10-20T08:01:26.130443Z",
     "shell.execute_reply": "2024-10-20T08:01:33.885295Z"
    },
    "trusted": true
   },
   "execution_count": 13,
   "outputs": []
  },
  {
   "cell_type": "code",
   "source": [
    "bert_results = bert_model(text_preprocessed)\n",
    "\n",
    "print(f'Loaded BERT: {tfhub_handle_encoder}')\n",
    "print(f'Pooled Outputs Shape:{bert_results[\"pooled_output\"].shape}')\n",
    "print(f'Pooled Outputs Values:{bert_results[\"pooled_output\"][0, :12]}')\n",
    "print(f'Sequence Outputs Shape:{bert_results[\"sequence_output\"].shape}')\n",
    "print(f'Sequence Outputs Values:{bert_results[\"sequence_output\"][0, :12]}')"
   ],
   "metadata": {
    "id": "_OoF9mebuSZc",
    "outputId": "301a1d68-5256-4df4-a33d-ddb3ca824a55",
    "execution": {
     "iopub.status.busy": "2024-10-20T08:01:33.887528Z",
     "iopub.execute_input": "2024-10-20T08:01:33.887890Z",
     "iopub.status.idle": "2024-10-20T08:01:34.273124Z",
     "shell.execute_reply.started": "2024-10-20T08:01:33.887852Z",
     "shell.execute_reply": "2024-10-20T08:01:34.271760Z"
    },
    "trusted": true
   },
   "execution_count": 14,
   "outputs": [
    {
     "name": "stdout",
     "text": "Loaded BERT: https://tfhub.dev/tensorflow/small_bert/bert_en_uncased_L-4_H-512_A-8/1\nPooled Outputs Shape:(1, 512)\nPooled Outputs Values:[ 0.762629    0.99280983 -0.18611868  0.36673862  0.15233733  0.6550447\n  0.9681154  -0.9486271   0.00216128 -0.9877732   0.06842692 -0.97630584]\nSequence Outputs Shape:(1, 128, 512)\nSequence Outputs Values:[[-0.28946346  0.3432128   0.33231518 ...  0.21300825  0.7102068\n  -0.05771117]\n [-0.28742072  0.31981036 -0.23018576 ...  0.58455    -0.21329743\n   0.72692114]\n [-0.66157067  0.68876773 -0.8743301  ...  0.1087725  -0.26173177\n   0.47855407]\n ...\n [-0.2256118  -0.2892561  -0.0706445  ...  0.47566038  0.83277136\n   0.40025333]\n [-0.2982428  -0.27473134 -0.05450517 ...  0.48849747  1.0955354\n   0.18163396]\n [-0.44378242  0.00930811  0.07223688 ...  0.1729009   1.1833243\n   0.07898017]]\n",
     "output_type": "stream"
    }
   ]
  },
  {
   "cell_type": "markdown",
   "source": [
    "The BERT models return a map with 3 important keys: `pooled_output`, `sequence_output`, `encoder_outputs`:\n",
    "\n",
    "- `pooled_output` represents each input sequence as a whole. The shape is `[batch_size, H]`. You can think of this as an embedding for the entire movie review.\n",
    "- `sequence_output` represents each input token in the context. The shape is `[batch_size, seq_length, H]`. You can think of this as a contextual embedding for every token in the movie review.\n",
    "- `encoder_outputs` are the intermediate activations of the `L` Transformer blocks. `outputs[\"encoder_outputs\"][i]` is a Tensor of shape `[batch_size, seq_length, 1024]` with the outputs of the i-th Transformer block, for `0 <= i < L`. The last value of the list is equal to `sequence_output`.\n",
    "\n",
    "For the fine-tuning you are going to use the `pooled_output` array."
   ],
   "metadata": {
    "id": "sm61jDrezAll"
   }
  },
  {
   "cell_type": "markdown",
   "source": [
    "## Define your model\n",
    "\n",
    "You will create a very simple fine-tuned model, with the preprocessing model, the selected BERT model, one Dense and a Dropout layer.\n",
    "\n",
    "Note: for more information about the base model's input and output you can follow the model's URL for documentation. Here specifically, you don't need to worry about it because the preprocessing model will take care of that for you.\n"
   ],
   "metadata": {
    "id": "pDNKfAXbDnJH"
   }
  },
  {
   "cell_type": "code",
   "source": [
    "def build_classifier_model():\n",
    "  text_input = tf.keras.layers.Input(shape=(), dtype=tf.string, name='text')\n",
    "  preprocessing_layer = hub.KerasLayer(tfhub_handle_preprocess, name='preprocessing')\n",
    "  encoder_inputs = preprocessing_layer(text_input)\n",
    "  encoder = hub.KerasLayer(tfhub_handle_encoder, trainable=True, name='BERT_encoder')\n",
    "  outputs = encoder(encoder_inputs)\n",
    "  net = outputs['pooled_output']\n",
    "  net = tf.keras.layers.Dropout(0.1)(net)\n",
    "  net = tf.keras.layers.Dense(1, activation=None, name='classifier')(net)\n",
    "  return tf.keras.Model(text_input, net)"
   ],
   "metadata": {
    "id": "aksj743St9ga",
    "execution": {
     "iopub.status.busy": "2024-10-20T08:01:34.274835Z",
     "iopub.execute_input": "2024-10-20T08:01:34.275587Z",
     "iopub.status.idle": "2024-10-20T08:01:34.283695Z",
     "shell.execute_reply.started": "2024-10-20T08:01:34.275530Z",
     "shell.execute_reply": "2024-10-20T08:01:34.282590Z"
    },
    "trusted": true
   },
   "execution_count": 15,
   "outputs": []
  },
  {
   "cell_type": "markdown",
   "source": [
    "Let's check that the model runs with the output of the preprocessing model."
   ],
   "metadata": {
    "id": "Zs4yhFraBuGQ"
   }
  },
  {
   "cell_type": "code",
   "source": [
    "classifier_model = build_classifier_model()\n",
    "bert_raw_result = classifier_model(tf.constant(text_test))\n",
    "print(tf.sigmoid(bert_raw_result))"
   ],
   "metadata": {
    "id": "mGMF8AZcB2Zy",
    "outputId": "37fb016c-d071-430b-f2f4-c1301e1aa1d5",
    "execution": {
     "iopub.status.busy": "2024-10-20T08:01:34.285121Z",
     "iopub.execute_input": "2024-10-20T08:01:34.285503Z",
     "iopub.status.idle": "2024-10-20T08:01:43.589242Z",
     "shell.execute_reply.started": "2024-10-20T08:01:34.285464Z",
     "shell.execute_reply": "2024-10-20T08:01:43.588022Z"
    },
    "trusted": true
   },
   "execution_count": 16,
   "outputs": [
    {
     "name": "stdout",
     "text": "tf.Tensor([[0.86307955]], shape=(1, 1), dtype=float32)\n",
     "output_type": "stream"
    }
   ]
  },
  {
   "cell_type": "markdown",
   "source": [
    "The output is meaningless, of course, because the model has not been trained yet.\n",
    "\n",
    "Let's take a look at the model's structure."
   ],
   "metadata": {
    "id": "ZTUzNV2JE2G3"
   }
  },
  {
   "cell_type": "code",
   "source": [
    "tf.keras.utils.plot_model(classifier_model)"
   ],
   "metadata": {
    "id": "0EmzyHZXKIpm",
    "outputId": "34f86cde-ed6d-4875-82d6-ab90bab8e803",
    "execution": {
     "iopub.status.busy": "2024-10-20T08:01:43.590819Z",
     "iopub.execute_input": "2024-10-20T08:01:43.591326Z",
     "iopub.status.idle": "2024-10-20T08:01:43.847511Z",
     "shell.execute_reply.started": "2024-10-20T08:01:43.591280Z",
     "shell.execute_reply": "2024-10-20T08:01:43.846341Z"
    },
    "trusted": true
   },
   "execution_count": 17,
   "outputs": [
    {
     "execution_count": 17,
     "output_type": "execute_result",
     "data": {
      "image/png": "[encoded data removed]",
      "text/plain": "<IPython.core.display.Image object>"
     },
     "metadata": {}
    }
   ]
  },
  {
   "cell_type": "markdown",
   "source": [
    "## Model training\n",
    "\n",
    "You now have all the pieces to train a model, including the preprocessing module, BERT encoder, data, and classifier."
   ],
   "metadata": {
    "id": "WbUWoZMwc302"
   }
  },
  {
   "cell_type": "markdown",
   "source": [
    "### Loss function\n",
    "\n",
    "Since this is a binary classification problem and the model outputs a probability (a single-unit layer), you'll use `losses.BinaryCrossentropy` loss function.\n"
   ],
   "metadata": {
    "id": "WpJ3xcwDT56v"
   }
  },
  {
   "cell_type": "code",
   "source": [
    "loss = tf.keras.losses.BinaryCrossentropy(from_logits=True)\n",
    "METRICS = [\n",
    "    tf.keras.metrics.BinaryAccuracy(name='accuracy'),\n",
    "    tf.keras.metrics.Precision(name='precision'),\n",
    "    tf.keras.metrics.Recall(name='recall'),\n",
    "    tf.keras.metrics.AUC(curve=\"ROC\", summation_method=\"interpolation\", name='auc')\n",
    "]"
   ],
   "metadata": {
    "id": "OWPOZE-L3AgE",
    "execution": {
     "iopub.status.busy": "2024-10-20T08:01:43.849023Z",
     "iopub.execute_input": "2024-10-20T08:01:43.849426Z",
     "iopub.status.idle": "2024-10-20T08:01:43.882700Z",
     "shell.execute_reply.started": "2024-10-20T08:01:43.849387Z",
     "shell.execute_reply": "2024-10-20T08:01:43.881496Z"
    },
    "trusted": true
   },
   "execution_count": 18,
   "outputs": []
  },
  {
   "cell_type": "markdown",
   "source": [
    "### Optimizer\n",
    "\n",
    "For fine-tuning, let's use the same optimizer that BERT was originally trained with: the \"Adaptive Moments\" (Adam). This optimizer minimizes the prediction loss and does regularization by weight decay (not using moments), which is also known as [AdamW](https://arxiv.org/abs/1711.05101).\n",
    "\n",
    "For the learning rate (`init_lr`), you will use the same schedule as BERT pre-training: linear decay of a notional initial learning rate, prefixed with a linear warm-up phase over the first 10% of training steps (`num_warmup_steps`). In line with the BERT paper, the initial learning rate is smaller for fine-tuning (best of 5e-5, 3e-5, 2e-5)."
   ],
   "metadata": {
    "id": "77psrpfzbxtp"
   }
  },
  {
   "cell_type": "code",
   "source": [
    "epochs = 5\n",
    "steps_per_epoch = tf.data.experimental.cardinality(train_ds).numpy()\n",
    "num_train_steps = steps_per_epoch * epochs\n",
    "num_warmup_steps = int(0.1*num_train_steps)\n",
    "\n",
    "init_lr = 3e-5\n",
    "optimizer = optimization.create_optimizer(init_lr=init_lr,\n",
    "                                          num_train_steps=num_train_steps,\n",
    "                                          num_warmup_steps=num_warmup_steps,\n",
    "                                          optimizer_type='adamw')"
   ],
   "metadata": {
    "id": "P9eP2y9dbw32",
    "execution": {
     "iopub.status.busy": "2024-10-20T08:01:43.884162Z",
     "iopub.execute_input": "2024-10-20T08:01:43.884578Z",
     "iopub.status.idle": "2024-10-20T08:01:43.893995Z",
     "shell.execute_reply.started": "2024-10-20T08:01:43.884530Z",
     "shell.execute_reply": "2024-10-20T08:01:43.892593Z"
    },
    "trusted": true
   },
   "execution_count": 19,
   "outputs": []
  },
  {
   "cell_type": "markdown",
   "source": [
    "### Loading the BERT model and training\n",
    "\n",
    "Using the `classifier_model` you created earlier, you can compile the model with the loss, metric and optimizer."
   ],
   "metadata": {
    "id": "SqlarlpC_v0g"
   }
  },
  {
   "cell_type": "code",
   "source": [
    "classifier_model.compile(optimizer=optimizer,\n",
    "                         loss=loss,\n",
    "                         metrics=METRICS)"
   ],
   "metadata": {
    "id": "-7GPDhR98jsD",
    "execution": {
     "iopub.status.busy": "2024-10-20T08:01:43.895877Z",
     "iopub.execute_input": "2024-10-20T08:01:43.897081Z",
     "iopub.status.idle": "2024-10-20T08:01:44.425477Z",
     "shell.execute_reply.started": "2024-10-20T08:01:43.897016Z",
     "shell.execute_reply": "2024-10-20T08:01:44.424166Z"
    },
    "trusted": true
   },
   "execution_count": 20,
   "outputs": []
  },
  {
   "cell_type": "markdown",
   "source": [
    "Note: training time will vary depending on the complexity of the BERT model you have selected."
   ],
   "metadata": {
    "id": "CpBuV5j2cS_b"
   }
  },
  {
   "cell_type": "code",
   "source": [
    "print(f'Training model with {tfhub_handle_encoder}')\n",
    "history = classifier_model.fit(x=train_ds,\n",
    "                               validation_data=val_ds,\n",
    "                               epochs=epochs)"
   ],
   "metadata": {
    "id": "HtfDFAnN_Neu",
    "outputId": "451e07cb-da61-4cf0-cf7e-14403e19d97d",
    "execution": {
     "iopub.status.busy": "2024-10-20T08:04:05.553865Z",
     "iopub.execute_input": "2024-10-20T08:04:05.554381Z",
     "iopub.status.idle": "2024-10-20T08:16:17.460521Z",
     "shell.execute_reply.started": "2024-10-20T08:04:05.554334Z",
     "shell.execute_reply": "2024-10-20T08:16:17.458659Z"
    },
    "trusted": true
   },
   "execution_count": 22,
   "outputs": [
    {
     "name": "stdout",
     "text": "Training model with https://tfhub.dev/tensorflow/small_bert/bert_en_uncased_L-4_H-512_A-8/1\nEpoch 1/5\n30/30 [==============================] - 157s 5s/step - loss: 0.5276 - accuracy: 0.7400 - precision: 0.7895 - recall: 0.5237 - auc: 0.7501 - val_loss: 0.5130 - val_accuracy: 0.7353 - val_precision: 0.7969 - val_recall: 0.5050 - val_auc: 0.7617\nEpoch 2/5\n30/30 [==============================] - 139s 5s/step - loss: 0.4260 - accuracy: 0.7884 - precision: 0.8571 - recall: 0.5985 - auc: 0.8149 - val_loss: 0.5045 - val_accuracy: 0.7647 - val_precision: 0.7528 - val_recall: 0.6634 - val_auc: 0.7777\nEpoch 3/5\n30/30 [==============================] - 138s 5s/step - loss: 0.3693 - accuracy: 0.8337 - precision: 0.9064 - recall: 0.6758 - auc: 0.8438 - val_loss: 0.5186 - val_accuracy: 0.7479 - val_precision: 0.7071 - val_recall: 0.6931 - val_auc: 0.7904\nEpoch 4/5\n30/30 [==============================] - 138s 5s/step - loss: 0.3434 - accuracy: 0.8358 - precision: 0.9070 - recall: 0.6808 - auc: 0.8457 - val_loss: 0.4984 - val_accuracy: 0.7647 - val_precision: 0.7528 - val_recall: 0.6634 - val_auc: 0.7948\nEpoch 5/5\n30/30 [==============================] - 153s 5s/step - loss: 0.3201 - accuracy: 0.8621 - precision: 0.9042 - recall: 0.7531 - auc: 0.8837 - val_loss: 0.5011 - val_accuracy: 0.7647 - val_precision: 0.7473 - val_recall: 0.6733 - val_auc: 0.8027\n",
     "output_type": "stream"
    }
   ]
  },
  {
   "cell_type": "markdown",
   "source": [
    "### Evaluate the model\n",
    "\n",
    "Let's see how the model performs. Two values will be returned. Loss (a number which represents the error, lower values are better), and accuracy."
   ],
   "metadata": {
    "id": "uBthMlTSV8kn"
   }
  },
  {
   "cell_type": "code",
   "source": [
    "results = classifier_model.evaluate(test_ds)\n",
    "\n",
    "print(f'Loss: {results[0]}')\n",
    "print(f'Accuracy: {results[1]}')\n",
    "print(f'Precision: {results[2]}')\n",
    "print(f'Recall: {results[3]}')\n",
    "print(f'AUC: {results[4]}')"
   ],
   "metadata": {
    "id": "slqB-urBV9sP",
    "outputId": "893b90f9-bfa0-47e2-adf5-7963038690f6",
    "execution": {
     "iopub.status.busy": "2024-10-20T08:19:24.211680Z",
     "iopub.execute_input": "2024-10-20T08:19:24.213332Z",
     "iopub.status.idle": "2024-10-20T08:19:36.095968Z",
     "shell.execute_reply.started": "2024-10-20T08:19:24.213275Z",
     "shell.execute_reply": "2024-10-20T08:19:36.094618Z"
    },
    "trusted": true
   },
   "execution_count": 23,
   "outputs": [
    {
     "name": "stdout",
     "text": "10/10 [==============================] - 12s 1s/step - loss: 0.4077 - accuracy: 0.8182 - precision: 0.7757 - recall: 0.7345 - auc: 0.8325\nLoss: 0.40772300958633423\nAccuracy: 0.8181818127632141\nPrecision: 0.7757009267807007\nRecall: 0.7345132827758789\nAUC: 0.8324835896492004\n",
     "output_type": "stream"
    }
   ]
  },
  {
   "cell_type": "markdown",
   "source": [
    "### Plotting the ROC"
   ],
   "metadata": {
    "id": "uttWpgmSfzq9"
   }
  },
  {
   "cell_type": "code",
   "source": [
    "from sklearn.metrics import roc_curve, auc\n",
    "import matplotlib.pyplot as plt\n",
    "\n",
    "# Get true labels and predicted probabilities\n",
    "y_true = []\n",
    "y_pred_prob = []\n",
    "\n",
    "for texts, labels in test_ds:\n",
    "    y_true.extend(labels.numpy())\n",
    "    y_pred_prob.extend(classifier_model.predict(texts).ravel())\n",
    "\n",
    "# Compute ROC curve and AUC\n",
    "fpr, tpr, thresholds = roc_curve(y_true, y_pred_prob)\n",
    "roc_auc = auc(fpr, tpr)\n",
    "\n",
    "# Plotting the ROC curve\n",
    "plt.figure(figsize=(8, 6))\n",
    "plt.plot(fpr, tpr, color='darkorange', lw=2, label=f'ROC curve (area = {roc_auc:.2f})')\n",
    "plt.plot([0, 1], [0, 1], color='navy', lw=2, linestyle='--')  # Diagonal line\n",
    "plt.xlabel('False Positive Rate')\n",
    "plt.ylabel('True Positive Rate')\n",
    "plt.title('Receiver Operating Characteristic (ROC) Curve')\n",
    "plt.legend(loc='lower right')\n",
    "plt.grid(True)\n",
    "plt.show()"
   ],
   "metadata": {
    "id": "fiythcODf0xo",
    "outputId": "f4a5c6d7-0cdb-472f-f4d2-af6e7c2c696b",
    "execution": {
     "iopub.status.busy": "2024-10-20T08:22:03.090936Z",
     "iopub.execute_input": "2024-10-20T08:22:03.091599Z",
     "iopub.status.idle": "2024-10-20T08:22:17.075856Z",
     "shell.execute_reply.started": "2024-10-20T08:22:03.091543Z",
     "shell.execute_reply": "2024-10-20T08:22:17.074333Z"
    },
    "trusted": true
   },
   "execution_count": 25,
   "outputs": [
    {
     "name": "stdout",
     "text": "1/1 [==============================] - 2s 2s/step\n1/1 [==============================] - 1s 1s/step\n1/1 [==============================] - 2s 2s/step\n1/1 [==============================] - 1s 1s/step\n1/1 [==============================] - 1s 1s/step\n1/1 [==============================] - 1s 1s/step\n1/1 [==============================] - 1s 1s/step\n1/1 [==============================] - 1s 1s/step\n1/1 [==============================] - 1s 1s/step\n1/1 [==============================] - 1s 842ms/step\n",
     "output_type": "stream"
    },
    {
     "output_type": "display_data",
     "data": {
      "text/plain": "<Figure size 800x600 with 1 Axes>",
      "image/png": "[encoded data removed]"
     },
     "metadata": {}
    }
   ]
  }
 ]
}
